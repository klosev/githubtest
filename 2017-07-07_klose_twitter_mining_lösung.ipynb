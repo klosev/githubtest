{
 "cells": [
  {
   "cell_type": "markdown",
   "metadata": {},
   "source": [
    "# Übungen zur Twitter Mining"
   ]
  },
  {
   "cell_type": "markdown",
   "metadata": {},
   "source": [
    "### Aufgabe 1\n",
    "\n",
    "Finde heraus welche die wichtigsten globalen Themen sind und welche die wichtigsten Themen in Deutschland sind. Gibt es vielleicht Gemeinsamkeiten?\n",
    "\n",
    "<b>Tipp</b>: Die WOEID für Deutschland ist <code> 23424829 </code>"
   ]
  },
  {
   "cell_type": "code",
   "execution_count": 7,
   "metadata": {
    "collapsed": false
   },
   "outputs": [
    {
     "name": "stdout",
     "output_type": "stream",
     "text": [
      "<twitter.api.Twitter object at 0x000000000554F278>\n"
     ]
    }
   ],
   "source": [
    "import twitter\n",
    "CONSUMER_KEY = 'xxxxxxxxxx'\n",
    "CONSUMER_SECRET = 'xxxxxxxxxx'\n",
    "OAUTH_TOKEN = 'xxxxxxxxxx'\n",
    "OAUTH_TOKEN_SECRET = 'xxxxxxxxxx' #verschleiert\n",
    "\n",
    "auth = twitter.oauth.OAuth(OAUTH_TOKEN, OAUTH_TOKEN_SECRET,\n",
    "                           CONSUMER_KEY, CONSUMER_SECRET)\n",
    "twitter_api = twitter.Twitter(auth=auth)\n",
    "print (twitter_api)"
   ]
  },
  {
   "cell_type": "code",
   "execution_count": 8,
   "metadata": {
    "collapsed": false
   },
   "outputs": [
    {
     "name": "stdout",
     "output_type": "stream",
     "text": [
      "{'#ARMYSelcaDay'}\n"
     ]
    }
   ],
   "source": [
    "WORLD_WOE_ID = 1\n",
    "DE_WOE_ID = 23424829\n",
    "\n",
    "world_trends = twitter_api.trends.place(_id=WORLD_WOE_ID)\n",
    "de_trends = twitter_api.trends.place(_id=DE_WOE_ID)\n",
    "\n",
    "world_trends_set = set(trend['name']\n",
    "                       for trend in world_trends[0]['trends'])\n",
    "\n",
    "de_trends_set = set(trend['name']\n",
    "                       for trend in de_trends[0]['trends'])\n",
    "\n",
    "common_trends = world_trends_set.intersection(de_trends_set)\n",
    "\n",
    "print(common_trends)"
   ]
  },
  {
   "cell_type": "markdown",
   "metadata": {},
   "source": [
    "### Aufgabe 2\n",
    "\n",
    "Suche dir ein Tweet nach eigenem Wunsch aus und finde heraus wer der Originalverfasser ist, falls das Tweet ein Retweet ist. Finde heraus welche User das Tweet (original) retweeted haben. "
   ]
  },
  {
   "cell_type": "code",
   "execution_count": 10,
   "metadata": {
    "collapsed": false
   },
   "outputs": [
    {
     "name": "stdout",
     "output_type": "stream",
     "text": [
      "Length of statuses 100\n",
      "Length of statuses 200\n",
      "Length of statuses 200\n"
     ]
    }
   ],
   "source": [
    "query = 'Donald J. Trump'\n",
    "count = 100\n",
    "\n",
    "search_results = twitter_api.search.tweets(q=query, count=count)\n",
    "statuses = search_results['statuses']\n",
    "\n",
    "for _ in range(5):\n",
    "    print (\"Length of statuses\", len(statuses))\n",
    "    try:\n",
    "        next_results = search_results['search_metadata']['next_results']\n",
    "    except KeyError as e:\n",
    "        break\n",
    "        \n",
    "    kwargs = dict([ kv.split('=') for kv in next_results[1:].split(\"&\") ])\n",
    "    search_results = twitter_api.search.tweets(**kwargs)\n",
    "    statuses += search_results['statuses']"
   ]
  },
  {
   "cell_type": "code",
   "execution_count": 11,
   "metadata": {
    "collapsed": false
   },
   "outputs": [
    {
     "name": "stdout",
     "output_type": "stream",
     "text": [
      "RT @brutofficiel: \"J'en ai ras-le bol !\"\n",
      "Après les derniers tweets misogynes de Donald Trump, @RepLawrence pousse le coup de gueule que bea…\n",
      "\n",
      "RT @brutofficiel: \"J'en ai ras-le bol !\"\n",
      "Après les derniers tweets misogynes de Donald Trump, @RepLawrence pousse le coup de gueule que bea…\n",
      "\n",
      "RT @bfraser747: \"I'm a Democrat who voted for Donald J. Trump. I voted for the change agent, the outsider.\" ~ @brunelldonald https://t.co/E…\n",
      "\n",
      "RT @brutofficiel: \"J'en ai ras-le bol !\"\n",
      "Après les derniers tweets misogynes de Donald Trump, @RepLawrence pousse le coup de gueule que bea…\n",
      "\n",
      "RT @FoxNews: .@brunelldonald: \"I'm a Democrat who voted for Donald J. Trump. I voted for the change agent, the outsider.\" https://t.co/iK5S…\n",
      "\n"
     ]
    }
   ],
   "source": [
    "for i in range(5):\n",
    "    print(statuses[i]['text'])\n",
    "    print()"
   ]
  },
  {
   "cell_type": "code",
   "execution_count": 16,
   "metadata": {
    "collapsed": false
   },
   "outputs": [
    {
     "data": {
      "text/plain": [
       "881872646547419136"
      ]
     },
     "execution_count": 16,
     "metadata": {},
     "output_type": "execute_result"
    }
   ],
   "source": [
    "t = statuses[0]\n",
    "t['retweeted_status']['user']['screen_name']\n",
    "t['retweeted_status']['id']"
   ]
  },
  {
   "cell_type": "code",
   "execution_count": 17,
   "metadata": {
    "collapsed": false
   },
   "outputs": [
    {
     "name": "stdout",
     "output_type": "stream",
     "text": [
      "['BurgerMarty', 'mvollmer1', 'josephmiles35', 'HealthMartin', 'FabioladelaPaz1', 'SAPHealth', 'bsubbareddy_SAP', 'AndreaKaufmann']\n"
     ]
    }
   ],
   "source": [
    "_retweets = twitter_api.statuses.retweets(id=875312105393721345)\n",
    "print ([r['user']['screen_name'] for r in _retweets])"
   ]
  }
 ],
 "metadata": {
  "kernelspec": {
   "display_name": "Python 3",
   "language": "python",
   "name": "python3"
  },
  "language_info": {
   "codemirror_mode": {
    "name": "ipython",
    "version": 3
   },
   "file_extension": ".py",
   "mimetype": "text/x-python",
   "name": "python",
   "nbconvert_exporter": "python",
   "pygments_lexer": "ipython3",
   "version": "3.6.0"
  }
 },
 "nbformat": 4,
 "nbformat_minor": 2
}
