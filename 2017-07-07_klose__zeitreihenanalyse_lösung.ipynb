{
 "cells": [
  {
   "cell_type": "markdown",
   "metadata": {},
   "source": [
    "# Übungen zur Zeitreihenanalyse mit R"
   ]
  },
  {
   "cell_type": "markdown",
   "metadata": {},
   "source": [
    "### Aufgabe 1: Theorie\n",
    "\n",
    "**1.1. Was müssen Sie bei der Analyse eines multiplikativen Modells beachten?**\n",
    "\n",
    "**1.2. Gegeben seien mehrere ARIMA-Modelle unterschiedlicher Ordnung. Evaluieren Sie die nachfolgenden Modelle anhand der Ihnen bekannten Kriterien und geben Sie das für Sie \"beste\" Modell an:**\n",
    "\n",
    "| Nr | ARIMA-Modell            | sigma^2| log.likelihood | aic\n",
    "| :------------- |:-------------:|:-------------|:-------------:|-------------:|\n",
    "|1|(0,0,1)|0.08942|-30.29|66.58|\n",
    "|2|(1,1,1)|0.06069|-3.02|12.04|\n",
    "|3|(2,1,1)|0.06069|-3.01|14.03|\n",
    "|4|(12,1,3)|0.01638|81.93|-131.87|\n",
    "|5|(12,1,0)|0.0175|78.36|-130.73|\n",
    "|6|(0,1,12)|0.03235|36.5|-47.01|\n",
    "|7|(1,1,12)|0.03042|38.7|-49.39|\n",
    "|8|(12,1,1)|0.01698|80.39|**-132.79**| "
   ]
  },
  {
   "cell_type": "markdown",
   "metadata": {},
   "source": [
    "Afg. 1.1:\n",
    "\n",
    "Bei der Analyse eines multiplikativen Modells muss vor der Differenzbildung das multiplikative Modell in ein additives Modell überführt werden. Dies geschieht durch logarithmieren der Zeitreihe."
   ]
  },
  {
   "cell_type": "markdown",
   "metadata": {},
   "source": [
    "Afg 1.2:\n",
    "\n",
    "-132.79"
   ]
  },
  {
   "cell_type": "markdown",
   "metadata": {},
   "source": [
    "### Aufgabe 2: Flugpassagiere\n",
    "\n",
    "Gegeben sei eine Zeitreihe über die Entwicklung von Fluggastzahlen im Zeitraum von 1949-1960. Führen Sie eine erste Analyse dieses Datensatzes durch unter Berücksichtigung der konkreten Anweisungen weiter unten."
   ]
  },
  {
   "cell_type": "code",
   "execution_count": 4,
   "metadata": {
    "collapsed": true
   },
   "outputs": [],
   "source": [
    "?AirPassengers"
   ]
  },
  {
   "cell_type": "markdown",
   "metadata": {},
   "source": [
    "**2.1: Geben Sie einen ersten Plot der Zeitreihe aus und beantworten Sie durch genaues hinsehen die folgende Frage:**\n",
    "\n",
    "Nennen Sie drei charakteristische Merkmale dieser Zeitreihe. Verknüpfen Sie Ihre Beobachtungen mit dazu passenden realen Begebenheiten."
   ]
  },
  {
   "cell_type": "markdown",
   "metadata": {},
   "source": [
    "Afg. 2.1:\n",
    "\n",
    "1. **Zeitreihe weist stark positiven Trend auf.** \n",
    ">Dies liegt unter Anderem an der steigenden Popularität der Luftfahrt und den damit einhergegangenen, erschwinglicheren Preisen.\n",
    "2. **Zeitreihe weist starke saisonale Einflüsse auf.** \n",
    ">Erkennbar an den relativ ähnlich aussehenden peaks. Die Ausschläge sind immer zur Sommerzeit (Urlaubszeit)\n",
    "3. **Zeitreihe weist ein multiplikatives Verhalten der Komponenten auf.** \n",
    ">Erkennt man an den immer heftigeren Ausschlägen über den Betrachtungszeitraum."
   ]
  },
  {
   "cell_type": "code",
   "execution_count": 3,
   "metadata": {},
   "outputs": [
    {
     "data": {
      "image/png": "[encoded data removed]",
      "text/plain": [
       "plot without title"
      ]
     },
     "metadata": {},
     "output_type": "display_data"
    }
   ],
   "source": [
    "plot(AirPassengers)"
   ]
  },
  {
   "cell_type": "markdown",
   "metadata": {},
   "source": [
    "**2.2. Die Zeitreihe 'AirPassengers' unterscheidet sich in einem Merkmal wesentlich von der Analyse im Vortrag. Worin? **<br>\n"
   ]
  },
  {
   "cell_type": "markdown",
   "metadata": {},
   "source": [
    "Für AirPassengers ist ein multiplikatives Komponentenmodell zutreffend."
   ]
  },
  {
   "cell_type": "markdown",
   "metadata": {},
   "source": [
    "**2.3. Wie können Sie diesen Unterschied (theoretisch) beheben?**<br>"
   ]
  },
  {
   "cell_type": "markdown",
   "metadata": {},
   "source": [
    "Dies kann einerseits durch logarithmieren der Zeitreihe erreicht werden. Alternativ müssen hier bei verschiedenen Funktionen das multiplikative Verhalten geeignet behandelt werden. (s.u.)"
   ]
  },
  {
   "cell_type": "markdown",
   "metadata": {},
   "source": [
    "**2.4.1. Ermitteln Sie eine geeignete (sinnvolle), *glatte Komponente*. <br>**\n",
    "    *(Beachten Sie hierbei ggf. zusätzliche Parameter der Funktion!)* <br>\n",
    "<br>**2.4.2. Analysieren Sie im Anschluss mit der Funktion summary() Ihre Glättung. Was bedeutet der Wert bei \"NA's\"?<br>\n",
    "2.4.3. Wodurch wird dieser verursacht?**"
   ]
  },
  {
   "cell_type": "markdown",
   "metadata": {},
   "source": [
    "Afg. 2.4.1:"
   ]
  },
  {
   "cell_type": "code",
   "execution_count": null,
   "metadata": {},
   "outputs": [],
   "source": [
    "air_pass_ma12 = ma(AirPassengers, 12, centre=TRUE)"
   ]
  },
  {
   "cell_type": "code",
   "execution_count": null,
   "metadata": {},
   "outputs": [],
   "source": [
    "plot(air_pass_ma12)"
   ]
  },
  {
   "cell_type": "markdown",
   "metadata": {},
   "source": [
    "Afg. 2.4.2:"
   ]
  },
  {
   "cell_type": "code",
   "execution_count": 33,
   "metadata": {},
   "outputs": [
    {
     "data": {
      "text/plain": [
       "   Min. 1st Qu.  Median    Mean 3rd Qu.    Max.    NA's \n",
       "  126.8   190.7   259.5   278.0   372.2   475.0      12 "
      ]
     },
     "metadata": {},
     "output_type": "display_data"
    }
   ],
   "source": [
    "summary(air_pass_ma12)"
   ]
  },
  {
   "cell_type": "markdown",
   "metadata": {},
   "source": [
    "Afg 2.4.2 und Afg 2.4.3:\n",
    "\n",
    "Der Wert NA repräsentiert die durch die Glättung entfallenen Werte. Da die Methode der gleitenden Durchschnitte ein festes Segment (hier 12 Werte groß) um den zu bestimmenden Wert voraussetzt, entfallen die ersten und letzten 6 Werte der ursprünglichen Zeitreihe. Die Zeitreihe ist somit etwas kürzer."
   ]
  },
  {
   "cell_type": "markdown",
   "metadata": {},
   "source": [
    "**2.5. Führen Sie nun eine Komponentenzerlegung durch. Übergeben Sie hierbei das in 2.2. gefragte Merkmal als Parameter.** <br>\n",
    "*(Tipp: ?decompose())"
   ]
  },
  {
   "cell_type": "code",
   "execution_count": 7,
   "metadata": {},
   "outputs": [
    {
     "data": {
      "image/png": "[encoded data removed]",
      "text/plain": [
       "plot without title"
      ]
     },
     "metadata": {},
     "output_type": "display_data"
    }
   ],
   "source": [
    "plot(decompose(AirPassengers, type = c(\"multiplicative\")))"
   ]
  }
 ],
 "metadata": {
  "kernelspec": {
   "display_name": "R",
   "language": "R",
   "name": "ir"
  },
  "language_info": {
   "codemirror_mode": "r",
   "file_extension": ".r",
   "mimetype": "text/x-r-source",
   "name": "R",
   "pygments_lexer": "r",
   "version": "3.3.2"
  }
 },
 "nbformat": 4,
 "nbformat_minor": 2
}
