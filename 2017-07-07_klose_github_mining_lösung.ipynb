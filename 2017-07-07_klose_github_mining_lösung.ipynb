{
 "cells": [
  {
   "cell_type": "markdown",
   "metadata": {},
   "source": [
    "# GitHub Mining Übungen"
   ]
  },
  {
   "cell_type": "markdown",
   "metadata": {},
   "source": [
    "### Aufgabe 1.1 \n",
    "Erstelle dir für dein persönliches GitHub-Profil einen authorisierten API Access Token."
   ]
  },
  {
   "cell_type": "code",
   "execution_count": null,
   "metadata": {
    "collapsed": true
   },
   "outputs": [],
   "source": [
    "import requests\n",
    "from getpass import getpass\n",
    "import json\n",
    "\n",
    "\n",
    "username = 'klosev'\n",
    "password = 'passwort123'\n",
    "url = 'https://api.github.com/authorizations'\n",
    "note = 'blabla'\n",
    "post_data = {'scopes':['repo'],'note': note }\n",
    "\n",
    "response = requests.post(url, auth = (username, password), data = json.dumps(post_data))   \n",
    "\n",
    "print(\"Dein OAuth Token lautet:\", response.json()['token'])"
   ]
  },
  {
   "cell_type": "markdown",
   "metadata": {},
   "source": [
    "\n",
    "### Aufgabe 1.2\n",
    "Lasse dir die Anzahl user ausgeben, die bisher zum repository **lehrbuch** des users **dspyrhsu** beigetragen haben (Diese user sind im repository als contributors gekennzeichnet).\n",
    "\n",
    "**[Tipp](http://pygithub.github.io/PyGithub/v1/search.html?q=get_contributor)**"
   ]
  },
  {
   "cell_type": "code",
   "execution_count": null,
   "metadata": {
    "collapsed": false
   },
   "outputs": [],
   "source": [
    "from github import Github\n",
    "\n",
    "ACCESS_TOKEN = '<token>'\n",
    "\n",
    "USER = 'dspyrhsu'\n",
    "REPO = 'lehrbuch'\n",
    "client = Github(ACCESS_TOKEN, per_page=100)\n",
    "user = client.get_user(USER)\n",
    "repo = user.get_repo(REPO)\n",
    "\n",
    "contributors = [ s for s in repo.get_contributors() ]\n",
    "print(\"Anzahl contributors:\", len(contributors))"
   ]
  },
  {
   "cell_type": "markdown",
   "metadata": {},
   "source": [
    "### Aufgabe 2.1\n",
    "Erstelle einen simplen Graphen mit *nodes* und *edges* aller **contributors** zum repository **dspyrhsu**."
   ]
  },
  {
   "cell_type": "code",
   "execution_count": null,
   "metadata": {
    "collapsed": false
   },
   "outputs": [],
   "source": [
    "import networkx as nx\n",
    "\n",
    "g = nx.DiGraph()\n",
    "g.add_node(repo.name + '(repo)', type='repo', lang=repo.language, owner=user.login)\n",
    "\n",
    "for sg in contributors:\n",
    "    g.add_node(sg.login + '(user)', type='user')\n",
    "    g.add_edge(sg.login + '(user)', repo.name + '(repo)', type='gazes')\n",
    "    \n",
    "print(nx.info(g))"
   ]
  },
  {
   "cell_type": "markdown",
   "metadata": {},
   "source": [
    "### Aufgabe 2.2\n",
    "Gib dann den Namen aller **contributors** aus."
   ]
  },
  {
   "cell_type": "code",
   "execution_count": null,
   "metadata": {
    "collapsed": false
   },
   "outputs": [],
   "source": [
    "print(sorted([n for n in g.degree_iter()], key=itemgetter(1), reverse=True)[:10])"
   ]
  }
 ],
 "metadata": {
  "kernelspec": {
   "display_name": "Python 3",
   "language": "python",
   "name": "python3"
  },
  "language_info": {
   "codemirror_mode": {
    "name": "ipython",
    "version": 3
   },
   "file_extension": ".py",
   "mimetype": "text/x-python",
   "name": "python",
   "nbconvert_exporter": "python",
   "pygments_lexer": "ipython3",
   "version": "3.6.0"
  }
 },
 "nbformat": 4,
 "nbformat_minor": 2
}
